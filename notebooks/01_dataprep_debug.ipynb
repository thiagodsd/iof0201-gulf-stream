{
 "cells": [
  {
   "cell_type": "code",
   "execution_count": 1,
   "metadata": {},
   "outputs": [],
   "source": [
    "import wodpy\n",
    "import pandas as pd\n",
    "import numpy as np\n",
    "\n",
    "from IPython.display import display"
   ]
  },
  {
   "cell_type": "code",
   "execution_count": 2,
   "metadata": {},
   "outputs": [],
   "source": [
    "fid = open('../data/01_raw/ocldb1699703820.2684.OSD', newline=None)\n",
    "wod = wodpy.wod.WodProfile(fid)"
   ]
  },
  {
   "cell_type": "code",
   "execution_count": 3,
   "metadata": {},
   "outputs": [],
   "source": [
    "# Per-profile data:\n",
    "\n",
    "# cruise(): Returns the cruise number.\n",
    "# day(): Returns the day.\n",
    "# latitude_unc(): uncertainty on latitude\n",
    "# longitude_unc(): uncertainty on longitude\n",
    "# latitude(): Returns the latitude of the profile.\n",
    "# longitude(): Returns the longitude of the profile.\n",
    "# month(): Returns the month.\n",
    "# n_levels(): Returns the number of levels in the profile.\n",
    "# primary_header_keys(): Returns a list of keys in the primary header.\n",
    "# probe_type(): Returns the contents of secondary header 29 if it exists, otherwise None.\n",
    "# time(): Returns the time.\n",
    "# uid(): Returns the unique identifier of the profile.\n",
    "# year(): Returns the year.\n",
    "# PIs(): Returns a list of objects with keys \"Variable code\" and \"P.I. code\"\n",
    "# originator_station(): Returns a string denoting the originator station\n",
    "# originator_cruise(): Returns a string denoting the originator cruise\n",
    "# originator_flag_type(): Returns the index specifying the originator flag definitions (table 2.28 in http://data.nodc.noaa.gov/woa/WOD/DOC/wodreadme.pdf)\n",
    "# extract_secondary_header(index): returns the value of the secondary header indexed by the index argument, where this index corresponds to the 'ID' column of table 4 in https://data.nodc.noaa.gov/woa/WOD/DOC/wodreadme.pdf. For example, extract_secondary_header(29) is exactly equivalent to probe_type()."
   ]
  },
  {
   "cell_type": "code",
   "execution_count": 5,
   "metadata": {},
   "outputs": [
    {
     "name": "stderr",
     "output_type": "stream",
     "text": [
      "/home/dusoudeth/Documentos/github/kedro_gulf/lib/python3.10/site-packages/wodpy/wod.py:792: UserWarning: Pandas doesn't allow columns to be created via a new attribute name - see https://pandas.pydata.org/pandas-docs/stable/indexing.html#attribute-access\n",
      "  df.meta = meta\n"
     ]
    },
    {
     "data": {
      "text/html": [
       "<div>\n",
       "<style scoped>\n",
       "    .dataframe tbody tr th:only-of-type {\n",
       "        vertical-align: middle;\n",
       "    }\n",
       "\n",
       "    .dataframe tbody tr th {\n",
       "        vertical-align: top;\n",
       "    }\n",
       "\n",
       "    .dataframe thead th {\n",
       "        text-align: right;\n",
       "    }\n",
       "</style>\n",
       "<table border=\"1\" class=\"dataframe\">\n",
       "  <thead>\n",
       "    <tr style=\"text-align: right;\">\n",
       "      <th></th>\n",
       "      <th>z</th>\n",
       "      <th>z_level_qc</th>\n",
       "      <th>z_unc</th>\n",
       "      <th>t</th>\n",
       "      <th>t_level_qc</th>\n",
       "      <th>t_unc</th>\n",
       "      <th>s</th>\n",
       "      <th>s_level_qc</th>\n",
       "      <th>s_unc</th>\n",
       "      <th>oxygen</th>\n",
       "      <th>...</th>\n",
       "      <th>longitude</th>\n",
       "      <th>month</th>\n",
       "      <th>n_levels</th>\n",
       "      <th>probe_type</th>\n",
       "      <th>time</th>\n",
       "      <th>uid</th>\n",
       "      <th>year</th>\n",
       "      <th>originator_station</th>\n",
       "      <th>originator_cruise</th>\n",
       "      <th>originator_flag_type</th>\n",
       "    </tr>\n",
       "  </thead>\n",
       "  <tbody>\n",
       "    <tr>\n",
       "      <th>0</th>\n",
       "      <td>0.0</td>\n",
       "      <td>0</td>\n",
       "      <td>NaN</td>\n",
       "      <td>-1.1</td>\n",
       "      <td>0</td>\n",
       "      <td>NaN</td>\n",
       "      <td>NaN</td>\n",
       "      <td>NaN</td>\n",
       "      <td>NaN</td>\n",
       "      <td>NaN</td>\n",
       "      <td>...</td>\n",
       "      <td>22.0</td>\n",
       "      <td>12</td>\n",
       "      <td>2</td>\n",
       "      <td>7.0</td>\n",
       "      <td>None</td>\n",
       "      <td>9540582</td>\n",
       "      <td>1772</td>\n",
       "      <td>None</td>\n",
       "      <td>None</td>\n",
       "      <td>None</td>\n",
       "    </tr>\n",
       "    <tr>\n",
       "      <th>1</th>\n",
       "      <td>183.0</td>\n",
       "      <td>0</td>\n",
       "      <td>NaN</td>\n",
       "      <td>1.1</td>\n",
       "      <td>0</td>\n",
       "      <td>NaN</td>\n",
       "      <td>NaN</td>\n",
       "      <td>NaN</td>\n",
       "      <td>NaN</td>\n",
       "      <td>NaN</td>\n",
       "      <td>...</td>\n",
       "      <td>22.0</td>\n",
       "      <td>12</td>\n",
       "      <td>2</td>\n",
       "      <td>7.0</td>\n",
       "      <td>None</td>\n",
       "      <td>9540582</td>\n",
       "      <td>1772</td>\n",
       "      <td>None</td>\n",
       "      <td>None</td>\n",
       "      <td>None</td>\n",
       "    </tr>\n",
       "  </tbody>\n",
       "</table>\n",
       "<p>2 rows × 29 columns</p>\n",
       "</div>"
      ],
      "text/plain": [
       "       z  z_level_qc  z_unc    t  t_level_qc  t_unc   s  s_level_qc  s_unc  \\\n",
       "0    0.0           0    NaN -1.1           0    NaN NaN         NaN    NaN   \n",
       "1  183.0           0    NaN  1.1           0    NaN NaN         NaN    NaN   \n",
       "\n",
       "   oxygen  ...  longitude  month  n_levels  probe_type  time      uid  year  \\\n",
       "0     NaN  ...       22.0     12         2         7.0  None  9540582  1772   \n",
       "1     NaN  ...       22.0     12         2         7.0  None  9540582  1772   \n",
       "\n",
       "  originator_station  originator_cruise  originator_flag_type  \n",
       "0               None               None                  None  \n",
       "1               None               None                  None  \n",
       "\n",
       "[2 rows x 29 columns]"
      ]
     },
     "metadata": {},
     "output_type": "display_data"
    }
   ],
   "source": [
    "data = wod.df().copy()\n",
    "\n",
    "data['cruise'] = wod.cruise()\n",
    "data['day'] = wod.day()\n",
    "data['latitude_unc'] = wod.latitude_unc()\n",
    "data['longitude_unc'] = wod.longitude_unc()\n",
    "data['latitude'] = wod.latitude()\n",
    "data['longitude'] = wod.longitude()\n",
    "data['month'] = wod.month()\n",
    "data['n_levels'] = wod.n_levels()\n",
    "# data['primary_header_keys'] = wod.primary_header_keys()\n",
    "data['probe_type'] = wod.probe_type()\n",
    "data['time'] = wod.time()\n",
    "data['uid'] = wod.uid()\n",
    "data['year'] = wod.year()\n",
    "# data['PIs'] = wod.PIs()\n",
    "data['originator_station'] = wod.originator_station()\n",
    "data['originator_cruise'] = wod.originator_cruise()\n",
    "data['originator_flag_type'] = wod.originator_flag_type()\n",
    "# data['extract_secondary_header'] = wod.extract_secondary_header(29)\n",
    "\n",
    "display(data)"
   ]
  },
  {
   "cell_type": "code",
   "execution_count": 23,
   "metadata": {},
   "outputs": [
    {
     "name": "stdout",
     "output_type": "stream",
     "text": [
      "Error7 1901\n"
     ]
    }
   ],
   "source": [
    "import gc\n",
    "\n",
    "binary_osd_path = \"../data/01_raw/ocldb1699703820.2684.OSD\"\n",
    "\n",
    "profiles = list()\n",
    "\n",
    "fid = open(binary_osd_path, newline=None)\n",
    "\n",
    "profiles.append(wodpy.wod.WodProfile(fid, load_profile_data=False))\n",
    "yyyy = profiles[-1].year()\n",
    "mm = profiles[-1].month()\n",
    "dd = profiles[-1].day()\n",
    "\n",
    "while profiles[-1].is_last_profile_in_file(fid) == False:\n",
    "    yyyy = profiles[-1].year()\n",
    "    # yyyymmdd = f\"({str(profile.year()).zfill(4)}{str(profile.month()).zfill(2)}{str(profile.day()).zfill(2)}) \"\n",
    "    try:\n",
    "        profiles.append(wodpy.wod.WodProfile(fid, load_profile_data=False))\n",
    "        print(len(profiles), f\"{yyyy}\", end=\"\\r\")\n",
    "    except:\n",
    "        print(\"Error\")\n",
    "        break\n",
    "\n",
    "# 1963 -> 5m14s"
   ]
  },
  {
   "cell_type": "code",
   "execution_count": 24,
   "metadata": {},
   "outputs": [
    {
     "data": {
      "text/plain": [
       "109137"
      ]
     },
     "execution_count": 24,
     "metadata": {},
     "output_type": "execute_result"
    }
   ],
   "source": [
    "len(profiles)"
   ]
  },
  {
   "cell_type": "code",
   "execution_count": 25,
   "metadata": {},
   "outputs": [
    {
     "data": {
      "text/plain": [
       "['IQuOD',\n",
       " 'PIs',\n",
       " '__class__',\n",
       " '__delattr__',\n",
       " '__dict__',\n",
       " '__dir__',\n",
       " '__doc__',\n",
       " '__eq__',\n",
       " '__format__',\n",
       " '__ge__',\n",
       " '__getattribute__',\n",
       " '__gt__',\n",
       " '__hash__',\n",
       " '__init__',\n",
       " '__init_subclass__',\n",
       " '__le__',\n",
       " '__lt__',\n",
       " '__module__',\n",
       " '__ne__',\n",
       " '__new__',\n",
       " '__reduce__',\n",
       " '__reduce_ex__',\n",
       " '__repr__',\n",
       " '__setattr__',\n",
       " '__sizeof__',\n",
       " '__str__',\n",
       " '__subclasshook__',\n",
       " '__weakref__',\n",
       " '_calculate_next_profile_position',\n",
       " '_interpret_data',\n",
       " '_read_character_data_and_principal_investigator',\n",
       " '_read_chars',\n",
       " '_read_primary_header',\n",
       " '_read_profile_data',\n",
       " '_read_secondary_or_biological_header',\n",
       " '_read_taxonomic_data',\n",
       " 'advance_file_position_to_next_profile',\n",
       " 'biological_header',\n",
       " 'character_data_and_principal_investigator',\n",
       " 'cr',\n",
       " 'cruise',\n",
       " 'datetime',\n",
       " 'day',\n",
       " 'df',\n",
       " 'extract_secondary_header',\n",
       " 'file_name',\n",
       " 'file_position',\n",
       " 'header',\n",
       " 'is_last_profile_in_file',\n",
       " 'latitude',\n",
       " 'latitude_unc',\n",
       " 'longitude',\n",
       " 'longitude_unc',\n",
       " 'month',\n",
       " 'n_levels',\n",
       " 'npdict',\n",
       " 'originator_cruise',\n",
       " 'originator_flag_type',\n",
       " 'originator_station',\n",
       " 'oxygen',\n",
       " 'p',\n",
       " 'pH',\n",
       " 'phosphate',\n",
       " 'primary_header',\n",
       " 'primary_header_keys',\n",
       " 'probe_type',\n",
       " 'profile_data',\n",
       " 'return_file_position_to_start_of_profile',\n",
       " 's',\n",
       " 's_level_qc',\n",
       " 's_metadata',\n",
       " 's_profile_qc',\n",
       " 's_qc_mask',\n",
       " 's_unc',\n",
       " 'secondary_header',\n",
       " 'silicate',\n",
       " 't',\n",
       " 't_level_qc',\n",
       " 't_metadata',\n",
       " 't_profile_qc',\n",
       " 't_qc_mask',\n",
       " 't_unc',\n",
       " 'taxa',\n",
       " 'time',\n",
       " 'uid',\n",
       " 'var_data',\n",
       " 'var_data_unc',\n",
       " 'var_index',\n",
       " 'var_level_qc',\n",
       " 'var_metadata',\n",
       " 'var_profile_qc',\n",
       " 'var_qc_mask',\n",
       " 'year',\n",
       " 'z',\n",
       " 'z_level_qc',\n",
       " 'z_unc']"
      ]
     },
     "execution_count": 25,
     "metadata": {},
     "output_type": "execute_result"
    }
   ],
   "source": [
    "dir(profiles[-1])"
   ]
  },
  {
   "cell_type": "code",
   "execution_count": 18,
   "metadata": {},
   "outputs": [],
   "source": [
    "del profiles"
   ]
  },
  {
   "cell_type": "code",
   "execution_count": 26,
   "metadata": {},
   "outputs": [
    {
     "data": {
      "text/plain": [
       "22539504"
      ]
     },
     "execution_count": 26,
     "metadata": {},
     "output_type": "execute_result"
    }
   ],
   "source": [
    "profiles[-1]._calculate_next_profile_position()"
   ]
  },
  {
   "cell_type": "code",
   "execution_count": 27,
   "metadata": {},
   "outputs": [
    {
     "data": {
      "text/plain": [
       "22539340"
      ]
     },
     "execution_count": 27,
     "metadata": {},
     "output_type": "execute_result"
    }
   ],
   "source": [
    "profiles[-1].file_position"
   ]
  },
  {
   "cell_type": "code",
   "execution_count": 9,
   "metadata": {},
   "outputs": [],
   "source": [
    "profile = wodpy.wod.WodProfile(fid)"
   ]
  },
  {
   "cell_type": "code",
   "execution_count": 20,
   "metadata": {},
   "outputs": [
    {
     "data": {
      "text/plain": [
       "['IQuOD',\n",
       " 'PIs',\n",
       " '__class__',\n",
       " '__delattr__',\n",
       " '__dict__',\n",
       " '__dir__',\n",
       " '__doc__',\n",
       " '__eq__',\n",
       " '__format__',\n",
       " '__ge__',\n",
       " '__getattribute__',\n",
       " '__gt__',\n",
       " '__hash__',\n",
       " '__init__',\n",
       " '__init_subclass__',\n",
       " '__le__',\n",
       " '__lt__',\n",
       " '__module__',\n",
       " '__ne__',\n",
       " '__new__',\n",
       " '__reduce__',\n",
       " '__reduce_ex__',\n",
       " '__repr__',\n",
       " '__setattr__',\n",
       " '__sizeof__',\n",
       " '__str__',\n",
       " '__subclasshook__',\n",
       " '__weakref__',\n",
       " '_calculate_next_profile_position',\n",
       " '_interpret_data',\n",
       " '_read_character_data_and_principal_investigator',\n",
       " '_read_chars',\n",
       " '_read_primary_header',\n",
       " '_read_profile_data',\n",
       " '_read_secondary_or_biological_header',\n",
       " '_read_taxonomic_data',\n",
       " 'advance_file_position_to_next_profile',\n",
       " 'biological_header',\n",
       " 'character_data_and_principal_investigator',\n",
       " 'cr',\n",
       " 'cruise',\n",
       " 'datetime',\n",
       " 'day',\n",
       " 'df',\n",
       " 'extract_secondary_header',\n",
       " 'file_name',\n",
       " 'file_position',\n",
       " 'header',\n",
       " 'is_last_profile_in_file',\n",
       " 'latitude',\n",
       " 'latitude_unc',\n",
       " 'longitude',\n",
       " 'longitude_unc',\n",
       " 'month',\n",
       " 'n_levels',\n",
       " 'npdict',\n",
       " 'originator_cruise',\n",
       " 'originator_flag_type',\n",
       " 'originator_station',\n",
       " 'oxygen',\n",
       " 'p',\n",
       " 'pH',\n",
       " 'phosphate',\n",
       " 'primary_header',\n",
       " 'primary_header_keys',\n",
       " 'probe_type',\n",
       " 'profile_data',\n",
       " 'return_file_position_to_start_of_profile',\n",
       " 's',\n",
       " 's_level_qc',\n",
       " 's_metadata',\n",
       " 's_profile_qc',\n",
       " 's_qc_mask',\n",
       " 's_unc',\n",
       " 'secondary_header',\n",
       " 'silicate',\n",
       " 't',\n",
       " 't_level_qc',\n",
       " 't_metadata',\n",
       " 't_profile_qc',\n",
       " 't_qc_mask',\n",
       " 't_unc',\n",
       " 'taxa',\n",
       " 'time',\n",
       " 'uid',\n",
       " 'var_data',\n",
       " 'var_data_unc',\n",
       " 'var_index',\n",
       " 'var_level_qc',\n",
       " 'var_metadata',\n",
       " 'var_profile_qc',\n",
       " 'var_qc_mask',\n",
       " 'year',\n",
       " 'z',\n",
       " 'z_level_qc',\n",
       " 'z_unc']"
      ]
     },
     "execution_count": 20,
     "metadata": {},
     "output_type": "execute_result"
    }
   ],
   "source": [
    "profile.advance_file_position_to_next_profile(fid)\n",
    "profile.advance_file_position_to_next_profile(fid)\n",
    "\n",
    "dir(profile)"
   ]
  },
  {
   "cell_type": "code",
   "execution_count": 28,
   "metadata": {},
   "outputs": [
    {
     "data": {
      "text/plain": [
       "2132"
      ]
     },
     "execution_count": 28,
     "metadata": {},
     "output_type": "execute_result"
    }
   ],
   "source": [
    "profile = wodpy.wod.WodProfile(fid)\n",
    "profile = wodpy.wod.WodProfile(fid)\n",
    "profile = wodpy.wod.WodProfile(fid)\n",
    "profile = wodpy.wod.WodProfile(fid)\n",
    "profile = wodpy.wod.WodProfile(fid)\n",
    "profile._calculate_next_profile_position()"
   ]
  },
  {
   "cell_type": "markdown",
   "metadata": {},
   "source": [
    "."
   ]
  }
 ],
 "metadata": {
  "kernelspec": {
   "display_name": "Python 3",
   "language": "python",
   "name": "python3"
  },
  "language_info": {
   "codemirror_mode": {
    "name": "ipython",
    "version": 3
   },
   "file_extension": ".py",
   "mimetype": "text/x-python",
   "name": "python",
   "nbconvert_exporter": "python",
   "pygments_lexer": "ipython3",
   "version": "3.10.12"
  }
 },
 "nbformat": 4,
 "nbformat_minor": 2
}
