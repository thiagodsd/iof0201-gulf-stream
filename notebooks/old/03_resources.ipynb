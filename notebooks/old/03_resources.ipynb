{
 "cells": [
  {
   "cell_type": "markdown",
   "metadata": {},
   "source": [
    "# Objetivo\n",
    "\n",
    "Estudar as informações do texto [\"Scientists Say Ocean Circulation Is Slowing. Here’s Why You Should Care\"](https://insideclimatenews.org/news/07052018/atlantic-ocean-circulation-slowing-climate-change-heat-temperature-rainfall-fish-why-you-should-care) do portal _InsideClimate News_.\n",
    "\n",
    "Em particular a afirmação\n",
    "\n",
    "> **\"Studies suggest it would mean much colder winters and hotter summers in Europe, changing rainfall patterns in the tropics, and warmer water building up along the U.S. coast that can fuel sea level rise and destructive storms.\"**.\n",
    "\n",
    "baseada na no paper [\"Interstadial Rise and Younger Dryas Demise of Scotland's Last Ice Fields\"](https://agupubs.onlinelibrary.wiley.com/doi/abs/10.1002/2018PA003341).\n",
    "\n",
    "- - -\n",
    "\n",
    "## Milestones\n",
    "\n",
    "1. reproduzir os resultados publicados em [\"2018 Continues Record Global Ocean Warming\"](https://link.springer.com/article/10.1007%2Fs00376-019-8276-x)\n",
    "2. construir um modelo capaz de aprender a dinâmica entre oceanos e clima.\n",
    "\n",
    "# Recursos\n",
    "\n",
    "## dados\n",
    "\n",
    "+ [https://podaac.jpl.nasa.gov/dataset/REYNOLDS_NCDC_L4_SST_HIST_RECON_MONTHLY_V3B_ASC](https://podaac.jpl.nasa.gov/dataset/REYNOLDS_NCDC_L4_SST_HIST_RECON_MONTHLY_V3B_ASC) - UPDATE: impossível extrair as informações.\n",
    "+ [Drifting platforms](https://www.nodc.noaa.gov/gocd/drportal.html) - This data set contains over 4 million surface current observations between 1894 and 1993, almost all obtained by the ship drift method.\n",
    "\n",
    "## informações\n",
    "+ [Effects of global warming on oceans](https://en.wikipedia.org/wiki/Effects_of_global_warming_on_oceans#Ocean_currents)\n",
    "+ [The Gulf Stream Explained](https://www.youtube.com/watch?v=UuGrBhK2c7U&feature=youtu.be)\n",
    "    + [Shutdown of thermohaline circulation](https://en.wikipedia.org/wiki/Shutdown_of_thermohaline_circulation)\n",
    "    + [Paradoxically, one outcome of global warming could be a dramatic cooling of Britain and northern Europe](https://www.hyperhistory.com/online_n2/connections_n2/climate_n2/gulfstream.html)"
   ]
  }
 ],
 "metadata": {
  "kernelspec": {
   "display_name": "Python 3",
   "language": "python",
   "name": "python3"
  },
  "language_info": {
   "codemirror_mode": {
    "name": "ipython",
    "version": 3
   },
   "file_extension": ".py",
   "mimetype": "text/x-python",
   "name": "python",
   "nbconvert_exporter": "python",
   "pygments_lexer": "ipython3",
   "version": "3.5.2"
  }
 },
 "nbformat": 4,
 "nbformat_minor": 2
}
